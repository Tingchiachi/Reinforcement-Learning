{
 "cells": [
  {
   "cell_type": "code",
   "execution_count": 1,
   "metadata": {},
   "outputs": [],
   "source": [
    "import random\n",
    "import numpy as np"
   ]
  },
  {
   "attachments": {},
   "cell_type": "markdown",
   "metadata": {},
   "source": [
    "迷宮遊戲：共有五個位置，一開始站在中間，每移動一步扣0.02分，走到左端得-1分，右端得1分，走到左右端即結束。"
   ]
  },
  {
   "cell_type": "code",
   "execution_count": 2,
   "metadata": {},
   "outputs": [],
   "source": [
    "#建立環境\n",
    "class Environment:\n",
    "\n",
    "    def __init__(self): #初始位置在3\n",
    "        self.position = 3\n",
    "\n",
    "    def get_observation(self): #回傳狀態，位置有1~5\n",
    "        return [i for i in range(1,6)]\n",
    "    \n",
    "    def get_actions(self): #-1代表往左、1代表往右\n",
    "        return [-1,1]\n",
    "    \n",
    "    def is_done(self): #判斷比賽是否結束\n",
    "        return self.position == 1 or self.position == 5\n",
    "    \n",
    "    def step(self,action): #根據行動計算reward\n",
    "        if self.is_done(): \n",
    "            raise Exception('Game Over')\n",
    "        self.position += action\n",
    "        if self.position == 1:\n",
    "            reward = -1\n",
    "        elif self.position == 5:\n",
    "            reward =1\n",
    "        else:\n",
    "            reward = -0.02\n",
    "\n",
    "        return self.position, reward"
   ]
  },
  {
   "cell_type": "code",
   "execution_count": 3,
   "metadata": {},
   "outputs": [],
   "source": [
    "#建立代理人\n",
    "class Actor:\n",
    "\n",
    "    def __init__(self):\n",
    "        pass\n",
    "    \n",
    "    def action(self,env): #隨機向左或向右\n",
    "        current_obs = env.get_observation()\n",
    "        return random.choice(env.get_actions())"
   ]
  },
  {
   "cell_type": "code",
   "execution_count": 5,
   "metadata": {},
   "outputs": [
    {
     "name": "stdout",
     "output_type": "stream",
     "text": [
      "累積reward:0.94\n"
     ]
    }
   ],
   "source": [
    "if __name__ == \"__main__\":\n",
    "    env = Environment()\n",
    "    actor = Actor()\n",
    "    total_reward = 0\n",
    "    while not env.is_done():\n",
    "        action = actor.action(env)\n",
    "        state, reward = env.step(action)\n",
    "        total_reward += reward\n",
    "    print(f\"累積reward:{total_reward:.2f}\")"
   ]
  },
  {
   "cell_type": "code",
   "execution_count": 6,
   "metadata": {},
   "outputs": [
    {
     "name": "stdout",
     "output_type": "stream",
     "text": [
      "累積reward:-1.02\n",
      "累積reward:0.94\n",
      "累積reward:0.94\n",
      "累積reward:0.98\n",
      "累積reward:0.94\n",
      "累積reward:0.94\n",
      "累積reward:0.86\n",
      "累積reward:-1.10\n",
      "累積reward:0.94\n",
      "累積reward:-1.02\n"
     ]
    }
   ],
   "source": [
    "env = Environment()\n",
    "actor = Actor()\n",
    "for _ in range(10):\n",
    "    env.__init__()\n",
    "    total_reward = 0\n",
    "    while not env.is_done():\n",
    "        action = actor.action(env)\n",
    "        state, reward = env.step(action)\n",
    "        total_reward += reward\n",
    "    print(f\"累積reward:{total_reward:.2f}\")"
   ]
  },
  {
   "cell_type": "code",
   "execution_count": 14,
   "metadata": {},
   "outputs": [],
   "source": [
    "node_count = 15\n",
    "normal_reward = -0.02"
   ]
  },
  {
   "cell_type": "code",
   "execution_count": 47,
   "metadata": {},
   "outputs": [],
   "source": [
    "#建立環境\n",
    "class Environment:\n",
    "\n",
    "    def __init__(self): #初始位置在中心\n",
    "        self.state_value = np.full((node_count+1), 0.0)\n",
    "        self.state_value_count = np.full((node_count+1), 0)\n",
    "\n",
    "    def reset(self):\n",
    "        self.poistion = int((node_count+1) / 2)\n",
    "        self.trajectory = [self.poistion]\n",
    "\n",
    "    def get_states(self): #回傳狀態，位置有1~5\n",
    "        return [i for i in range(1,node_count+1)]\n",
    "    \n",
    "    def get_actions(self): #-1代表往左、1代表往右\n",
    "        return [-1,1]\n",
    "    \n",
    "    def is_done(self): #判斷比賽是否結束\n",
    "        if self.poistion == 1 or self.poistion == node_count:\n",
    "            return True\n",
    "        else:\n",
    "            return False\n",
    "    \n",
    "    def step(self,action): #根據行動計算reward\n",
    "        if self.is_done(): \n",
    "            raise Exception('Game Over')\n",
    "        \n",
    "        self.poistion += action\n",
    "        self.trajectory.append(self.poistion)\n",
    "        if self.poistion == 1:\n",
    "            reward = -1\n",
    "        elif self.poistion == node_count:\n",
    "            reward = 1\n",
    "        else:\n",
    "            reward = normal_reward\n",
    "\n",
    "        return self.poistion, reward\n",
    "    \n",
    "    def update_state_value(self,final_value):\n",
    "        for i in range(len(self.trajectory)-1, -1, -1):\n",
    "            final_value += normal_reward\n",
    "            self.state_value[self.trajectory[i]] += final_value\n",
    "            self.state_value_count[self.trajectory[i]] += 1\n",
    "\n",
    "    def get_observation(self):\n",
    "        mean1 = np.full((node_count+1), 0.0)\n",
    "        for i in range(1,node_count+1):\n",
    "            if self.state_value_count[i] == 0:\n",
    "                mean1[i] = 0\n",
    "            else:\n",
    "                mean1[i] = self.state_value[i] / self.state_value_count[i]\n",
    "        return mean1"
   ]
  },
  {
   "cell_type": "code",
   "execution_count": 33,
   "metadata": {},
   "outputs": [],
   "source": [
    "class Actor:\n",
    "\n",
    "    def __init__(self):\n",
    "        pass\n",
    "    \n",
    "    def action(self, env):\n",
    "        state_value = env.get_observation()\n",
    "        \n",
    "        if state_value[env.poistion-1] > state_value[env.poistion+1]:\n",
    "            next_action = -1\n",
    "        if state_value[env.poistion-1] < state_value[env.poistion+1]:\n",
    "            next_action = 1\n",
    "        else:\n",
    "            next_action = random.choice(env.get_actions())\n",
    "\n",
    "        if len(env.trajectory) >= 3 and env.poistion + next_action == env.trajectory[-2] and env.trajectory[-1] == env.trajectory[-3]:\n",
    "            next_action = -next_action\n",
    "        return next_action"
   ]
  },
  {
   "cell_type": "code",
   "execution_count": 45,
   "metadata": {},
   "outputs": [
    {
     "name": "stdout",
     "output_type": "stream",
     "text": [
      "trajectory 0: [8, 7, 6, 5, 4, 3, 4, 5, 6, 7, 6, 5, 6, 7, 8, 7, 6, 5, 4, 3, 4, 5, 4, 3, 4, 5, 6, 5, 4, 3, 4, 5, 4, 3, 2, 3, 4, 5, 4, 3, 2, 1]\n",
      "trajectory 1: [8, 9, 10, 11, 12, 13, 14, 13, 12, 11, 12, 13, 14, 15]\n",
      "trajectory 2: [8, 9, 10, 11, 12, 13, 14, 15]\n",
      "trajectory 3: [8, 9, 10, 11, 12, 13, 14, 15]\n",
      "trajectory 4: [8, 9, 10, 11, 12, 13, 14, 15]\n",
      "trajectory 5: [8, 9, 10, 11, 12, 13, 14, 15]\n",
      "trajectory 6: [8, 9, 10, 11, 12, 13, 14, 15]\n",
      "trajectory 7: [8, 9, 10, 11, 12, 13, 14, 15]\n",
      "trajectory 8: [8, 9, 10, 11, 12, 13, 14, 15]\n",
      "trajectory 9: [8, 9, 10, 11, 12, 13, 14, 15]\n",
      "累積reward: [-1.8, 0.76, 0.88, 0.88, 0.88, 0.88, 0.88, 0.88, 0.88, 0.88]\n"
     ]
    }
   ],
   "source": [
    "env = Environment()\n",
    "actor = Actor()\n",
    "\n",
    "total_reward_list = []\n",
    "for i in range(10):\n",
    "    env.reset()\n",
    "    total_reward = 0\n",
    "    action_count = 0\n",
    "    while not env.is_done():\n",
    "        action = actor.action(env)\n",
    "        action_count += 1\n",
    "        state, reward = env.step(action)\n",
    "        # print(state, reward)\n",
    "        total_reward += reward\n",
    "\n",
    "        if action_count > 100:\n",
    "            env.poistion = int((node_count + 1)/2)\n",
    "            break\n",
    "    print(f'trajectory {i}: {env.trajectory}')\n",
    "    if action_count <= 100:\n",
    "        env.update_state_value(total_reward)\n",
    "        # print(f'state value: {list(np.around(env.get_observation()[1:] ,2))}')\n",
    "    total_reward_list.append(round(total_reward, 2))\n",
    "\n",
    "print(f'累積reward: {total_reward_list}')"
   ]
  },
  {
   "cell_type": "code",
   "execution_count": 46,
   "metadata": {},
   "outputs": [
    {
     "data": {
      "text/plain": [
       "[<matplotlib.lines.Line2D at 0x1fd4eb87fd0>]"
      ]
     },
     "execution_count": 46,
     "metadata": {},
     "output_type": "execute_result"
    },
    {
     "data": {
      "image/png": "[encoded data removed]",
      "text/plain": [
       "<Figure size 1000x600 with 1 Axes>"
      ]
     },
     "metadata": {},
     "output_type": "display_data"
    }
   ],
   "source": [
    "import matplotlib.pyplot as plt\n",
    "\n",
    "plt.figure(figsize=(10,6))\n",
    "plt.plot(total_reward_list)"
   ]
  }
 ],
 "metadata": {
  "kernelspec": {
   "display_name": "Python 3",
   "language": "python",
   "name": "python3"
  },
  "language_info": {
   "codemirror_mode": {
    "name": "ipython",
    "version": 3
   },
   "file_extension": ".py",
   "mimetype": "text/x-python",
   "name": "python",
   "nbconvert_exporter": "python",
   "pygments_lexer": "ipython3",
   "version": "3.10.11"
  },
  "orig_nbformat": 4
 },
 "nbformat": 4,
 "nbformat_minor": 2
}
